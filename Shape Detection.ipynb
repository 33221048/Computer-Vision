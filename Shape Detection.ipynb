{
 "cells": [
  {
   "cell_type": "markdown",
   "metadata": {},
   "source": [
    "# Shape Detectors\n",
    "___\n"
   ]
  },
  {
   "cell_type": "markdown",
   "metadata": {},
   "source": [
    "In this example, we would make a shape detector using OpenCV and Python.\n",
    "Following as you will see, we will use the _detect.py_  main python script that we’ll use to load an image, analyze it for shapes, and then perform shape detection and identification via the ShapeDetector class from the _shapedetector.py_ script."
   ]
  },
  {
   "cell_type": "markdown",
   "metadata": {},
   "source": [
    "Given below is the _shapedetector.py_ script. Store this script in a folder named modules inside your project directory. "
   ]
  },
  {
   "cell_type": "markdown",
   "metadata": {},
   "source": [
    "## _modules/shapedetector.py_"
   ]
  },
  {
   "cell_type": "code",
   "execution_count": null,
   "metadata": {
    "collapsed": true
   },
   "outputs": [],
   "source": [
    "# import the necessary packages\n",
    "import cv2\n",
    "\n",
    "class ShapeDetector:\n",
    "    def __init__(self):\n",
    "        pass\n",
    "\n",
    "    def detect(self, c):\n",
    "        # initialize the shape name and approximate the contour\n",
    "        shape = \"unidentified\"\n",
    "        peri = cv2.arcLength(c, True)\n",
    "        approx = cv2.approxPolyDP(c, 0.04 * peri, True)\n",
    "\n",
    "        # if the shape is a triangle, it will have 3 vertices\n",
    "        if len(approx) == 3:\n",
    "            shape = \"triangle\"\n",
    "\n",
    "        # if the shape has 4 vertices, it is either a square or a rectangle\n",
    "        elif len(approx) == 4:\n",
    "            # compute the bounding box of the contour and use the bounding box to compute the aspect ratio\n",
    "            (x, y, w, h) = cv2.boundingRect(approx)\n",
    "            ar = w / float(h)\n",
    "\n",
    "            # a square will have an aspect ratio that is approximately equal to one, otherwise, the shape is a rectangle\n",
    "            shape = \"square\" if ar >= 0.95 and ar <= 1.05 else \"rectangle\"\n",
    "\n",
    "        # if the shape is a pentagon, it will have 5 vertices\n",
    "        elif len(approx) == 5:\n",
    "            shape = \"pentagon\"\n",
    "\n",
    "        # otherwise, we assume the shape is a circle\n",
    "        else:\n",
    "            shape = \"circle\"\n",
    "\n",
    "        # return the name of the shape\n",
    "        return shape"
   ]
  },
  {
   "cell_type": "markdown",
   "metadata": {},
   "source": [
    "To perform shape detection, we’ll be using contour approximation. The _ShapeDetector_ class inside this script has a _detect_ method that takes one argument 'c' , the contour (i.e., outline) of the shape we are trying to identify.\n",
    "\n",
    "Contour approximation can be implemented by using the predefined OpenCV method _cv2.approxPolyDP()_. Common values for the second parameter to cv2.approxPolyDP  are normally in the range of 1-5% of the original contour perimeter. \n",
    "\n",
    "Here in the code, we first compute the perimeter of the contour, followed by constructing the actual contour approximation.\n",
    "And thereafter, we can move on to performing shape detection. \n",
    "\n",
    "A contour consists of a list of vertices. We can check the number of entries in this list to determine the shape of an object.\n",
    "For example, if the approximated contour has three vertices, then it must be a triangle. If a contour has four vertices, then it must be either a square or a rectangle. To determine which, we compute the aspect ratio of the shape, which is simply the width of the contour bounding box divided by the height. If the aspect ratio is ~1.0, then we are examining a square (since all sides have approximately equal length). Otherwise, the shape is a rectangle. Labelling a shape as a pentagon is straightforward, we just have to detect it has 5 sides. Ultimately, by process of elimination, we can assume that the analyzed shape is a circle.\n",
    "\n",
    "Finally, we return the detected shape to the calling method.\n",
    "___"
   ]
  },
  {
   "cell_type": "markdown",
   "metadata": {},
   "source": [
    "We would use the shapedetector script as a module and import it. Given below is the code of our main script _detect()_ that would use the ShapeDetector class from our shapedetector script.\n",
    "\n",
    "## _detect()_"
   ]
  },
  {
   "cell_type": "code",
   "execution_count": null,
   "metadata": {
    "collapsed": true
   },
   "outputs": [],
   "source": [
    "# import the necessary packages\n",
    "from modules.shapedetector import ShapeDetector\n",
    "import argparse\n",
    "import imutils\n",
    "import numpy as np\n",
    "import cv2\n",
    "\n",
    "# load the image and resize it to a smaller factor so that the shapes can be approximated better\n",
    "image = cv2.imread(\"images/shapes_and_colors.png\")\n",
    "resized = imutils.resize(image, width=300)\n",
    "ratio = (image.shape[0] / float(resized.shape[0]))\n",
    "\n",
    "# convert the resized image to grayscale, blur it slightly, and threshold it\n",
    "gray = cv2.cvtColor(resized, cv2.COLOR_BGR2GRAY)\n",
    "blurred = cv2.GaussianBlur(gray, (5, 5), 0)\n",
    "thresh = cv2.threshold(blurred, 60, 255, cv2.THRESH_BINARY)[1]\n",
    "\n",
    "# find contours in the thresholded image and initialize the shape detector\n",
    "cnts = cv2.findContours(thresh.copy(), cv2.RETR_EXTERNAL,cv2.CHAIN_APPROX_SIMPLE)\n",
    "cnts = cnts[0] if imutils.is_cv2() else cnts[1]\n",
    "sd = ShapeDetector()\n",
    "\n",
    "# loop over the contours\n",
    "for c in cnts:\n",
    "    # compute the center of the contour, then detect the name of the ashape using only the contour\n",
    "    M = cv2.moments(c)\n",
    "    cX = int((M[\"m10\"] / M[\"m00\"]) * ratio)\n",
    "    cY = int((M[\"m01\"] / M[\"m00\"]) * ratio)\n",
    "    shape = sd.detect(c)\n",
    "\n",
    "    # multiply the contour (x, y)-coordinates by the resize ratio,\n",
    "    # then draw the contours and the name of the shape on the image\n",
    "    c *= np.int32(ratio)\n",
    "    cv2.drawContours(image, [c], -1, (0, 255, 0), 2)\n",
    "    cv2.putText(image, shape, (cX, cY), cv2.FONT_HERSHEY_SIMPLEX,\n",
    "        0.5, (255, 255, 255), 2)\n",
    "\n",
    "    # show the output image\n",
    "    cv2.imshow(\"Image\", image)\n",
    "    cv2.waitKey(0)"
   ]
  },
  {
   "cell_type": "markdown",
   "metadata": {},
   "source": [
    "Here we first load our image and then resize it. We keep track of the ratio of the old height to the new resized height.\n",
    "From there we perform basic image processing: converting the resized image to grayscale, smoothing it to reduce high frequency noise, and finally thresholding it to reveal the shapes in the image.\n",
    "\n",
    "Lastly, we find contours in our threshold image, handle grabbing the correct tuple value from _cv2.findContours()_, and finally initialize our ShapeDetector:\n",
    "We start looping over each of the individual contours. For each of them, we compute the center of the contour, followed by performing shape detection and labeling.\n",
    "\n",
    "Since we are processing the contours extracted from the resized image (rather than the original image), we need to multiply the contours and center (x, y)-coordinates by our resize ratio. This will give us the correct (x, y)-coordinates for both the contours and centroid of the original image.\n",
    "\n",
    "Lastly, we draw the contours and the labeled shape on our image, followed by displaying our results."
   ]
  },
  {
   "cell_type": "markdown",
   "metadata": {},
   "source": [
    "I used the following image for testing the code. Feel free to make your own images with shapes to try and test it.\n",
    "\n",
    "<img src=\"images/shapes.png\" height=400px width=400px style=\"float:left; margin-left:30px\">"
   ]
  },
  {
   "cell_type": "markdown",
   "metadata": {},
   "source": [
    "The resulting output with the threshold image and the final image with all the shapes detected looked like: \n",
    "\n",
    "<img src=\"captures/shapesthresh.png\" style=\"float:left; margin-left:30px\">\n"
   ]
  },
  {
   "cell_type": "markdown",
   "metadata": {},
   "source": [
    "___\n",
    "\n",
    "<img src=\"captures/shapesdetected.png\" style=\"float:left; margin-left:30px\">"
   ]
  },
  {
   "cell_type": "markdown",
   "metadata": {},
   "source": [
    "___"
   ]
  }
 ],
 "metadata": {
  "kernelspec": {
   "display_name": "Python 2",
   "language": "python",
   "name": "python2"
  },
  "language_info": {
   "codemirror_mode": {
    "name": "ipython",
    "version": 2
   },
   "file_extension": ".py",
   "mimetype": "text/x-python",
   "name": "python",
   "nbconvert_exporter": "python",
   "pygments_lexer": "ipython2",
   "version": "2.7.11"
  }
 },
 "nbformat": 4,
 "nbformat_minor": 0
}
